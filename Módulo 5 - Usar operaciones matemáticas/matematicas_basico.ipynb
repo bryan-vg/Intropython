{
 "cells": [
  {
   "cell_type": "code",
   "execution_count": null,
   "metadata": {},
   "outputs": [],
   "source": []
  },
  {
   "cell_type": "markdown",
   "metadata": {},
   "source": [
    "# Matematicas basico"
   ]
  },
  {
   "cell_type": "code",
   "execution_count": 11,
   "metadata": {},
   "outputs": [
    {
     "name": "stdout",
     "output_type": "stream",
     "text": [
      "6\n",
      "minutos: 17\n",
      "restante: 22\n",
      "1084\n",
      "1084\n"
     ]
    }
   ],
   "source": [
    "answer = 30 % 12\n",
    "print(answer)\n",
    "\n",
    "seconds = 1042\n",
    "# con / es division normal\n",
    "# con // es division con redondeo hacia abajo, llamada division de piso (floor)\n",
    "minutes = seconds // 60\n",
    "restante = seconds % 60\n",
    "print('minutos: ' + str(minutes))\n",
    "print('restante: ' + str(restante))\n",
    "\n",
    "result_1 = 1032 + 26 * 2\n",
    "result_2 = 1032 + (26 * 2)\n",
    "print(result_1)\n",
    "print(result_2)"
   ]
  },
  {
   "cell_type": "markdown",
   "metadata": {},
   "source": [
    "## conversiones"
   ]
  },
  {
   "cell_type": "code",
   "execution_count": 16,
   "metadata": {},
   "outputs": [
    {
     "name": "stdout",
     "output_type": "stream",
     "text": [
      "215\n",
      "215.3\n",
      "***************\n",
      "23\n",
      "23\n"
     ]
    }
   ],
   "source": [
    "demo_int = int('215')\n",
    "print(demo_int)\n",
    "\n",
    "demo_float = float('215.3')\n",
    "print(demo_float)\n",
    "print('***************')\n",
    "print(abs(39 - 16))\n",
    "print(abs(16 - 39))"
   ]
  },
  {
   "cell_type": "code",
   "execution_count": 18,
   "metadata": {},
   "outputs": [
    {
     "name": "stdout",
     "output_type": "stream",
     "text": [
      "2\n",
      "1\n"
     ]
    }
   ],
   "source": [
    "# redondeo basico\n",
    "print(round(1.7))\n",
    "print(round(1.2))"
   ]
  },
  {
   "cell_type": "code",
   "execution_count": 2,
   "metadata": {},
   "outputs": [
    {
     "name": "stdout",
     "output_type": "stream",
     "text": [
      "13\n",
      "12\n"
     ]
    }
   ],
   "source": [
    "# redondeo con librerias\n",
    "# ceil: redondeo hacia arriba\n",
    "# floor: redondeo hacia abajo\n",
    "from math import ceil, floor\n",
    "\n",
    "round_up = ceil(12.5)\n",
    "print(round_up)\n",
    "\n",
    "round_down = floor(12.5)\n",
    "print(round_down)"
   ]
  }
 ],
 "metadata": {
  "interpreter": {
   "hash": "916dbcbb3f70747c44a77c7bcd40155683ae19c65e1c03b4aa3499c5328201f1"
  },
  "kernelspec": {
   "display_name": "Python 3.9.2 64-bit",
   "language": "python",
   "name": "python3"
  },
  "language_info": {
   "codemirror_mode": {
    "name": "ipython",
    "version": 3
   },
   "file_extension": ".py",
   "mimetype": "text/x-python",
   "name": "python",
   "nbconvert_exporter": "python",
   "pygments_lexer": "ipython3",
   "version": "3.9.2"
  },
  "orig_nbformat": 4
 },
 "nbformat": 4,
 "nbformat_minor": 2
}
