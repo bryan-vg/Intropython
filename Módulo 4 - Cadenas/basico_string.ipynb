{
 "cells": [
  {
   "cell_type": "code",
   "execution_count": null,
   "metadata": {},
   "outputs": [],
   "source": []
  },
  {
   "cell_type": "markdown",
   "metadata": {},
   "source": [
    "# Strings"
   ]
  },
  {
   "cell_type": "code",
   "execution_count": 1,
   "metadata": {},
   "outputs": [
    {
     "name": "stdout",
     "output_type": "stream",
     "text": [
      "The Moon has no atmosphere.\n",
      "The Moon has no atmosphere. No sound can be \"heard\" on the moon\n",
      "*******************\n",
      "We Only See \n",
      " About 60% Of The Moon'S Surface,\n",
      " This Is Known As The \"Near Side\".\n",
      "*******************\n",
      "['The', 'Moon', 'has', 'no', 'atmosphere.']\n"
     ]
    }
   ],
   "source": [
    "fact = 'The Moon has no atmosphere.'\n",
    "fact + \"No sound's can be heard on the Moon.\"\n",
    "two_facts = fact + ' No sound can be \"heard\" on the moon'\n",
    "print(fact)\n",
    "print(two_facts)\n",
    "print('*******************')\n",
    "third_fact = \"\"\"We only see \\n about 60% of the Moon's surface,\\n this is known as the \"near side\".\"\"\"\n",
    "print(third_fact.title())\n",
    "print('*******************')\n",
    "print(fact.split())"
   ]
  },
  {
   "cell_type": "code",
   "execution_count": 12,
   "metadata": {},
   "outputs": [
    {
     "name": "stdout",
     "output_type": "stream",
     "text": [
      "10\n",
      "1\n",
      "THIS TEXT WILL DESCRIBE FACTS AND CHALLENGES WITH SPACE TRAVEL\n"
     ]
    }
   ],
   "source": [
    "# busqueda de texto en un string\n",
    "#print('text' in 'This text will describe facts and challenges with space travel')\n",
    "# los strings empiezan en indice 0\n",
    "text = 'This text will describe facts and challenges with space travel'\n",
    "print(text.find('will'))\n",
    "print(text.count('will'))\n",
    "print(text.upper())"
   ]
  },
  {
   "cell_type": "code",
   "execution_count": 21,
   "metadata": {},
   "outputs": [
    {
     "name": "stdout",
     "output_type": "stream",
     "text": [
      "['Mars', 'Average', 'Temperature:', '-60', 'C']\n",
      " -60 C\n",
      "---------------\n",
      "Mars is not numeric\n",
      "Average is not numeric\n",
      "Temperature: is not numeric\n",
      "60\n",
      "C is not numeric\n",
      "This temperature is in Celsius\n"
     ]
    }
   ],
   "source": [
    "# division de un string\n",
    "temperatures = 'Mars Average Temperature: -60 C'\n",
    "parts = temperatures.split()\n",
    "print(parts)\n",
    "parts = temperatures.split(':')\n",
    "print(parts[-1])\n",
    "print('---------------')\n",
    "\n",
    "temperatures = 'Mars Average Temperature: 60 C'\n",
    "for item in temperatures.split():\n",
    "    if(item.isnumeric()):\n",
    "        print(item)\n",
    "    else:\n",
    "        print(item + ' is not numeric')\n",
    "\n",
    "if (\"30 C\".endswith(\"C\")):\n",
    "    print(\"This temperature is in Celsius\")\n"
   ]
  },
  {
   "cell_type": "markdown",
   "metadata": {},
   "source": [
    "### Replace"
   ]
  },
  {
   "cell_type": "code",
   "execution_count": 28,
   "metadata": {},
   "outputs": [
    {
     "name": "stdout",
     "output_type": "stream",
     "text": [
      "Saturn has a daytime temperature of -170 degrees C, while Mars has -28 C.\n",
      "==================\n"
     ]
    },
    {
     "data": {
      "text/plain": [
       "'The Moon is drifting away from the Earth.-On average, the Moon is moving about 4cm every year'"
      ]
     },
     "execution_count": 28,
     "metadata": {},
     "output_type": "execute_result"
    }
   ],
   "source": [
    "text = 'Saturn has a daytime temperature of -170 degrees Celsius, while Mars has -28 Celsius.'\n",
    "print(text.replace('Celsius', 'C'))\n",
    "\n",
    "text2 = 'Temperatures on the Moon can vary wildly.'\n",
    "'temperatures' in text2\n",
    "'temperatures' in text2.lower()\n",
    "print('==================')\n",
    "moon_facts = ['The Moon is drifting away from the Earth.', 'On average, the Moon is moving about 4cm every year']\n",
    "'-'.join(moon_facts)\n"
   ]
  },
  {
   "cell_type": "markdown",
   "metadata": {},
   "source": [
    "### Formato"
   ]
  },
  {
   "cell_type": "code",
   "execution_count": 40,
   "metadata": {},
   "outputs": [
    {
     "name": "stdout",
     "output_type": "stream",
     "text": [
      "On the Moon, you would weigh about 1/6 of your weight on Earth\n",
      "===================\n",
      "Both sides of the Moon get the same amount of sunlight, but only one side is seen from Earth because the Moon rotates around its own axis when it orbits Earth.\n",
      "===================\n",
      "On the Moon, you would weigh about 1/6 of your weight on Earth\n",
      "**************\n",
      "You are lighter on the Moon, because on the Moon \n",
      "... you would weigh about 1/6 of your weight on Earth\n",
      "----------------\n",
      "On the Moon, you would weigh about 1/6 of your weight on Earth\n",
      "On the Moon, you would weigh about 1.7% of your weight on Earth\n"
     ]
    },
    {
     "data": {
      "text/plain": [
       "'INTERESTING FACTS ABOUT THE MOON'"
      ]
     },
     "execution_count": 40,
     "metadata": {},
     "output_type": "execute_result"
    }
   ],
   "source": [
    "mass_percentage = '1/6'\n",
    "print('On the Moon, you would weigh about %s of your weight on Earth' % mass_percentage)\n",
    "print('===================')\n",
    "print('Both sides of the %s get the same amount of sunlight, but only one side is seen from %s because the %s rotates around its own axis when it orbits %s.' % ('Moon', 'Earth', 'Moon', 'Earth'))\n",
    "print('===================')\n",
    "print('On the Moon, you would weigh about {} of your weight on Earth'.format(mass_percentage))\n",
    "print('**************')\n",
    "print(\"\"\"You are lighter on the {moon}, because on the {moon} \n",
    "... you would weigh about {mass} of your weight on {earth}\"\"\".format(moon=\"Moon\", mass = mass_percentage, earth = 'Earth'))\n",
    "print('----------------')\n",
    "print(f'On the Moon, you would weigh about {mass_percentage} of your weight on Earth')\n",
    "print(f'On the Moon, you would weigh about {round(10/6, 1)}% of your weight on Earth')\n",
    "subject = 'interesting facts about the moon'\n",
    "f'{subject.upper()}'"
   ]
  }
 ],
 "metadata": {
  "interpreter": {
   "hash": "916dbcbb3f70747c44a77c7bcd40155683ae19c65e1c03b4aa3499c5328201f1"
  },
  "kernelspec": {
   "display_name": "Python 3.9.2 64-bit",
   "language": "python",
   "name": "python3"
  },
  "language_info": {
   "codemirror_mode": {
    "name": "ipython",
    "version": 3
   },
   "file_extension": ".py",
   "mimetype": "text/x-python",
   "name": "python",
   "nbconvert_exporter": "python",
   "pygments_lexer": "ipython3",
   "version": "3.9.2"
  },
  "orig_nbformat": 4
 },
 "nbformat": 4,
 "nbformat_minor": 2
}
