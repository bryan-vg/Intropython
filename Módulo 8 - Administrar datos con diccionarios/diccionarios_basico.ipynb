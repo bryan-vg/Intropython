{
 "cells": [
  {
   "cell_type": "code",
   "execution_count": null,
   "metadata": {},
   "outputs": [],
   "source": []
  },
  {
   "cell_type": "markdown",
   "metadata": {},
   "source": [
    "# Diccionarios"
   ]
  },
  {
   "cell_type": "code",
   "execution_count": 5,
   "metadata": {},
   "outputs": [
    {
     "name": "stdout",
     "output_type": "stream",
     "text": [
      "{'name': 'Earth', 'moons': 1}\n",
      "None\n",
      "{'name': 'kashyyk', 'moons': 1}\n"
     ]
    }
   ],
   "source": [
    "planet = {\n",
    "    'name': 'Earth',\n",
    "    'moons': 1\n",
    "}\n",
    "\n",
    "print(planet)\n",
    "#print(planet.get('name'))\n",
    "#print(planet['name'])\n",
    "\n",
    "print(planet.get('size'))\n",
    "\n",
    "#planet.update({'moons': 3})\n",
    "planet['name'] = 'kashyyk'\n",
    "print(planet)\n"
   ]
  },
  {
   "cell_type": "markdown",
   "metadata": {},
   "source": [
    "### Actualizacion de diccionarios"
   ]
  },
  {
   "cell_type": "code",
   "execution_count": 6,
   "metadata": {},
   "outputs": [
    {
     "name": "stdout",
     "output_type": "stream",
     "text": [
      "{'name': 'kamino', 'moons': 0}\n",
      "*************\n",
      "{'name': 'Nal Hutta', 'moons': 1}\n"
     ]
    }
   ],
   "source": [
    "# actualizacion con update\n",
    "planet.update({\n",
    "    'name': 'kamino',\n",
    "    'moons': 0\n",
    "})\n",
    "print(planet)\n",
    "print('*************')\n",
    "\n",
    "# actualizacion con corchetes\n",
    "planet['name'] = 'Nal Hutta'\n",
    "planet['moons'] = 1\n",
    "print(planet)"
   ]
  },
  {
   "cell_type": "markdown",
   "metadata": {},
   "source": [
    "### Adicion y eliminacion de claves"
   ]
  },
  {
   "cell_type": "code",
   "execution_count": 8,
   "metadata": {},
   "outputs": [
    {
     "name": "stdout",
     "output_type": "stream",
     "text": [
      "{'name': 'Nal Hutta', 'moons': 1, 'No. of rings': 0, 'orbital period': 100}\n",
      "--------------\n",
      "{'name': 'Nal Hutta', 'moons': 1, 'No. of rings': 0}\n"
     ]
    }
   ],
   "source": [
    "planet['orbital period'] = 100\n",
    "planet['No. of rings'] = 0\n",
    "print(planet)\n",
    "print('--------------')\n",
    "planet.pop('orbital period')\n",
    "print(planet)"
   ]
  },
  {
   "cell_type": "markdown",
   "metadata": {},
   "source": [
    "### Datos mas complejos dentro del diccionario"
   ]
  },
  {
   "cell_type": "code",
   "execution_count": 13,
   "metadata": {},
   "outputs": [
    {
     "name": "stdout",
     "output_type": "stream",
     "text": [
      "{'name': 'Nal Hutta', 'moons': 1, 'No. of rings': 0, 'diametro': {'polar': 133709, 'ecuatorial': 142984}}\n",
      "polar diameter: {133709}\n"
     ]
    }
   ],
   "source": [
    "planet['diametro'] = {\n",
    "    'polar': 133709,\n",
    "    'ecuatorial': 142984\n",
    "}\n",
    "\n",
    "print(planet)\n",
    "#print(planet.get('diametro'))\n",
    "\n",
    "print('polar diameter:', {planet['diametro']['polar']})\n"
   ]
  },
  {
   "cell_type": "markdown",
   "metadata": {},
   "source": [
    "### Programacion dinamica"
   ]
  },
  {
   "cell_type": "code",
   "execution_count": 18,
   "metadata": {},
   "outputs": [
    {
     "name": "stdout",
     "output_type": "stream",
     "text": [
      "dict_keys(['october', 'november', 'december'])\n",
      "En october cayeron: 3.5 centimetros.\n",
      "En november cayeron: 4.2 centimetros.\n",
      "En december cayeron: 2.1 centimetros.\n"
     ]
    }
   ],
   "source": [
    "rainfall = {\n",
    "    'october': 3.5,\n",
    "    'november': 4.2,\n",
    "    'december': 2.1\n",
    "}\n",
    "\n",
    "print(rainfall.keys())\n",
    "\n",
    "for key in rainfall.keys():\n",
    "    print(f'En {key} cayeron: {rainfall[key]} centimetros.')"
   ]
  },
  {
   "cell_type": "markdown",
   "metadata": {},
   "source": [
    "### determinar la existencia de un valor en el diccionario"
   ]
  },
  {
   "cell_type": "code",
   "execution_count": 21,
   "metadata": {},
   "outputs": [
    {
     "name": "stdout",
     "output_type": "stream",
     "text": [
      "El mes ya existe\n",
      "{'october': 3.5, 'november': 4.2, 'december': 3.1, 'may': 2}\n"
     ]
    }
   ],
   "source": [
    "#diciembre\n",
    "mes = 'may'\n",
    "if(mes in rainfall):\n",
    "    print('El mes ya existe')\n",
    "    rainfall[mes] = rainfall[mes] + 1\n",
    "else:\n",
    "    print('el mes no existe')\n",
    "    rainfall[mes] = 1\n",
    "\n",
    "print(rainfall)"
   ]
  },
  {
   "cell_type": "markdown",
   "metadata": {},
   "source": [
    "### obtener los valores de un diccionario"
   ]
  },
  {
   "cell_type": "code",
   "execution_count": 22,
   "metadata": {},
   "outputs": [
    {
     "name": "stdout",
     "output_type": "stream",
     "text": [
      "El total de precipitaciones es 12.8\n"
     ]
    }
   ],
   "source": [
    "total_rainfall = 0\n",
    "\n",
    "for valor in rainfall.values():\n",
    "    total_rainfall += valor\n",
    "\n",
    "print(f'El total de precipitaciones es {total_rainfall}')"
   ]
  }
 ],
 "metadata": {
  "interpreter": {
   "hash": "916dbcbb3f70747c44a77c7bcd40155683ae19c65e1c03b4aa3499c5328201f1"
  },
  "kernelspec": {
   "display_name": "Python 3.9.2 64-bit",
   "language": "python",
   "name": "python3"
  },
  "language_info": {
   "codemirror_mode": {
    "name": "ipython",
    "version": 3
   },
   "file_extension": ".py",
   "mimetype": "text/x-python",
   "name": "python",
   "nbconvert_exporter": "python",
   "pygments_lexer": "ipython3",
   "version": "3.9.2"
  },
  "orig_nbformat": 4
 },
 "nbformat": 4,
 "nbformat_minor": 2
}
