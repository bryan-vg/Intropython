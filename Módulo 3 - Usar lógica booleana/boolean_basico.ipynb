{
 "cells": [
  {
   "cell_type": "code",
   "execution_count": null,
   "metadata": {},
   "outputs": [],
   "source": []
  },
  {
   "cell_type": "markdown",
   "metadata": {},
   "source": [
    "# Logica Booleana"
   ]
  },
  {
   "cell_type": "code",
   "execution_count": 1,
   "metadata": {},
   "outputs": [
    {
     "name": "stdout",
     "output_type": "stream",
     "text": [
      "55\n",
      "--------------\n",
      "93\n"
     ]
    }
   ],
   "source": [
    "a = 97;\n",
    "b = 55;\n",
    "# probar expresion\n",
    "if(a > b):\n",
    "    # ejecutar\n",
    "    print(b)\n",
    "print('--------------')\n",
    "\n",
    "a = 93\n",
    "b = 27\n",
    "if (a >= b):\n",
    "    print(a)"
   ]
  },
  {
   "cell_type": "markdown",
   "metadata": {},
   "source": [
    "## Else y elif"
   ]
  },
  {
   "cell_type": "code",
   "execution_count": 9,
   "metadata": {},
   "outputs": [
    {
     "name": "stdout",
     "output_type": "stream",
     "text": [
      "27\n",
      "-----------\n",
      "a es igual que b\n",
      "==============\n",
      "a es menor que b\n"
     ]
    }
   ],
   "source": [
    "a = 93\n",
    "b = 27\n",
    "if (a <= b):\n",
    "    print(a)\n",
    "else:\n",
    "    print(b)\n",
    "print('-----------')\n",
    "\n",
    "a = 27\n",
    "b = 27\n",
    "if (a > b):\n",
    "    print(\"a es mayor o igual que b\")\n",
    "elif (a == b):\n",
    "    print(\"a es igual que b\")\n",
    "print('==============')\n",
    "\n",
    "b = 93\n",
    "a = 27\n",
    "if (a > b):\n",
    "    print(\"a es mayor que b\")\n",
    "elif (a < b):\n",
    "    print(\"a es menor que b\")\n",
    "else: \n",
    "    print (\"a es igual que b\")\n"
   ]
  },
  {
   "cell_type": "markdown",
   "metadata": {},
   "source": [
    "### Condiciones anidadas"
   ]
  },
  {
   "cell_type": "code",
   "execution_count": 11,
   "metadata": {},
   "outputs": [
    {
     "name": "stdout",
     "output_type": "stream",
     "text": [
      "a es mayor que b y b es mayor que c\n"
     ]
    }
   ],
   "source": [
    "a = 36\n",
    "b = 28\n",
    "c = 27\n",
    "if (a > b):\n",
    "    if (b > c):\n",
    "        print (\"a es mayor que b y b es mayor que c\")\n",
    "    else: \n",
    "        print (\"a es mayor que b y menor que c\")\n",
    "elif (a == b):\n",
    "    print (\"a es igual que b\")\n",
    "else:\n",
    "    print (\"a es menor que b\")"
   ]
  },
  {
   "cell_type": "markdown",
   "metadata": {},
   "source": [
    "### And y Or"
   ]
  },
  {
   "cell_type": "code",
   "execution_count": 17,
   "metadata": {},
   "outputs": [
    {
     "name": "stdout",
     "output_type": "stream",
     "text": [
      "57\n",
      "******************\n",
      "57\n"
     ]
    }
   ],
   "source": [
    "a = 23\n",
    "b = 34\n",
    "if (a == 34 or b == 34):\n",
    "    print(a + b)\n",
    "else:\n",
    "    print('no se cumplio la condicion')\n",
    "print('******************')\n",
    "\n",
    "a = 23\n",
    "b = 34\n",
    "if (a == 23 and b == 34):\n",
    "    print (a + b)"
   ]
  }
 ],
 "metadata": {
  "interpreter": {
   "hash": "916dbcbb3f70747c44a77c7bcd40155683ae19c65e1c03b4aa3499c5328201f1"
  },
  "kernelspec": {
   "display_name": "Python 3.9.2 64-bit",
   "language": "python",
   "name": "python3"
  },
  "language_info": {
   "codemirror_mode": {
    "name": "ipython",
    "version": 3
   },
   "file_extension": ".py",
   "mimetype": "text/x-python",
   "name": "python",
   "nbconvert_exporter": "python",
   "pygments_lexer": "ipython3",
   "version": "3.9.2"
  },
  "orig_nbformat": 4
 },
 "nbformat": 4,
 "nbformat_minor": 2
}
