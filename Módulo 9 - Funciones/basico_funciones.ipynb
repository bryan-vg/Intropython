{
 "cells": [
  {
   "cell_type": "code",
   "execution_count": null,
   "metadata": {},
   "outputs": [],
   "source": []
  },
  {
   "cell_type": "markdown",
   "metadata": {},
   "source": [
    "# basico funciones"
   ]
  },
  {
   "cell_type": "code",
   "execution_count": 4,
   "metadata": {},
   "outputs": [
    {
     "name": "stdout",
     "output_type": "stream",
     "text": [
      "pintura, alerones, escudo\n"
     ]
    }
   ],
   "source": [
    "def rocket_parts():\n",
    "    return 'pintura, alerones, escudo'\n",
    "\n",
    "salida = rocket_parts()\n",
    "print(salida)"
   ]
  },
  {
   "cell_type": "markdown",
   "metadata": {},
   "source": [
    "### Argumentos"
   ]
  },
  {
   "cell_type": "code",
   "execution_count": 8,
   "metadata": {},
   "outputs": [
    {
     "name": "stdout",
     "output_type": "stream",
     "text": [
      "True\n",
      "False\n"
     ]
    }
   ],
   "source": [
    "print( any([True, False, False]) )\n",
    "print( any([False, False, False]) )\n",
    "#any()"
   ]
  },
  {
   "cell_type": "markdown",
   "metadata": {},
   "source": [
    "### Funciones con argumentos requeridos"
   ]
  },
  {
   "cell_type": "code",
   "execution_count": 12,
   "metadata": {},
   "outputs": [
    {
     "name": "stdout",
     "output_type": "stream",
     "text": [
      "238,855\n",
      "Destination not found\n"
     ]
    }
   ],
   "source": [
    "def distance_from_earth(destiny):\n",
    "    if(destiny == 'Moon'):\n",
    "        return '238,855'\n",
    "    else:\n",
    "        return 'Destination not found'\n",
    "\n",
    "print(distance_from_earth('Moon'))\n",
    "print(distance_from_earth('Mon'))\n",
    "#print(distance_from_earth())"
   ]
  },
  {
   "cell_type": "markdown",
   "metadata": {},
   "source": [
    "### Varios argumentos"
   ]
  },
  {
   "cell_type": "code",
   "execution_count": 16,
   "metadata": {},
   "outputs": [
    {
     "name": "stdout",
     "output_type": "stream",
     "text": [
      "133\n",
      "133\n"
     ]
    }
   ],
   "source": [
    "def days_to_complete(distance, speed):\n",
    "    hours = distance / speed\n",
    "    return hours / 24\n",
    "\n",
    "total_days = days_to_complete(238855,75)\n",
    "#print(round(days_to_complete(238855,75)))\n",
    "print(round(total_days))"
   ]
  },
  {
   "cell_type": "code",
   "execution_count": 22,
   "metadata": {},
   "outputs": [
    {
     "name": "stdout",
     "output_type": "stream",
     "text": [
      "Durango Arrival: Tuesday 00:18\n",
      "Sonora Arrival: Sunday 07:18\n"
     ]
    }
   ],
   "source": [
    "#argumentos con valor default\n",
    "from datetime import timedelta, datetime\n",
    "\n",
    "def arrival_time(destiny, hours=51):\n",
    "    now = datetime.now()\n",
    "    arrival = now + timedelta(hours = hours)\n",
    "    return arrival.strftime(f'{destiny} Arrival: %A %H:%M')\n",
    "\n",
    "print(arrival_time('Durango'))\n",
    "print(arrival_time('Sonora', 10))"
   ]
  },
  {
   "cell_type": "markdown",
   "metadata": {},
   "source": [
    "### Argumentos de variable"
   ]
  },
  {
   "cell_type": "code",
   "execution_count": 25,
   "metadata": {},
   "outputs": [
    {
     "name": "stdout",
     "output_type": "stream",
     "text": [
      "('parametro', 21, [1, 2, 3], {'dict': 'diccionario'})\n"
     ]
    }
   ],
   "source": [
    "def variable_lentgh(*args):\n",
    "    print(args)\n",
    "\n",
    "variable_lentgh('parametro', 21, [1, 2, 3], {'dict': 'diccionario'})"
   ]
  },
  {
   "cell_type": "code",
   "execution_count": 28,
   "metadata": {},
   "outputs": [
    {
     "data": {
      "text/plain": [
       "'Total time to launch is 1.1 hours'"
      ]
     },
     "execution_count": 28,
     "metadata": {},
     "output_type": "execute_result"
    }
   ],
   "source": [
    "def sequence_time(*args):\n",
    "    total_minutes = sum(args)\n",
    "    if total_minutes < 60:\n",
    "        return f'Total time to launch is {total_minutes} minutes'\n",
    "    else:\n",
    "        return f'Total time to launch is {total_minutes/60} hours'\n",
    "\n",
    "#sequence_time(4, 14, 18)\n",
    "sequence_time(4, 14, 48)"
   ]
  },
  {
   "cell_type": "code",
   "execution_count": 32,
   "metadata": {},
   "outputs": [
    {
     "name": "stdout",
     "output_type": "stream",
     "text": [
      "{'captain': 'Neil Armstrong', 'pilot': 'Buzz Aldrin', 'command_pilot': 'Michael Collins'}\n",
      "3 astronautas asignados a la mision:\n",
      "captain: Neil Armstrong\n",
      "pilot: Buzz Aldrin\n",
      "command_pilot: Michael Collins\n"
     ]
    }
   ],
   "source": [
    "## argumentos con nombre variables\n",
    "def crew_members(**kwargs):\n",
    "    print(kwargs)\n",
    "    print(f'{len(kwargs)} astronautas asignados a la mision:')\n",
    "    for title, name in kwargs.items():\n",
    "        print(f'{title}: {name}')\n",
    "\n",
    "crew_members(captain='Neil Armstrong', pilot='Buzz Aldrin', command_pilot='Michael Collins')"
   ]
  }
 ],
 "metadata": {
  "interpreter": {
   "hash": "916dbcbb3f70747c44a77c7bcd40155683ae19c65e1c03b4aa3499c5328201f1"
  },
  "kernelspec": {
   "display_name": "Python 3.9.2 64-bit",
   "language": "python",
   "name": "python3"
  },
  "language_info": {
   "codemirror_mode": {
    "name": "ipython",
    "version": 3
   },
   "file_extension": ".py",
   "mimetype": "text/x-python",
   "name": "python",
   "nbconvert_exporter": "python",
   "pygments_lexer": "ipython3",
   "version": "3.9.2"
  },
  "orig_nbformat": 4
 },
 "nbformat": 4,
 "nbformat_minor": 2
}
