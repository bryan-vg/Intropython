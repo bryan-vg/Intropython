{
 "cells": [
  {
   "cell_type": "code",
   "execution_count": null,
   "metadata": {},
   "outputs": [],
   "source": []
  },
  {
   "cell_type": "markdown",
   "metadata": {},
   "source": [
    "# Basico listas"
   ]
  },
  {
   "cell_type": "code",
   "execution_count": 4,
   "metadata": {},
   "outputs": [
    {
     "name": "stdout",
     "output_type": "stream",
     "text": [
      "marte\n",
      "venus\n",
      "planeta azul\n",
      "4\n",
      "**************************\n",
      "['mercurio', 'venus', 'planeta azul', 'marte', 'saturno']\n",
      "saturno\n",
      "marte\n"
     ]
    }
   ],
   "source": [
    "planets = ['mercurio', 'venus', 'tierra', 'marte']\n",
    "print(planets[3])\n",
    "print(planets[1])\n",
    "planets[2] = 'planeta azul'\n",
    "print(planets[2])\n",
    "\n",
    "num_plnets = len(planets)\n",
    "print(num_plnets)\n",
    "print('**************************')\n",
    "\n",
    "planets.append('saturno')\n",
    "print(planets)\n",
    "#planets.pop()\n",
    "#print(planets)\n",
    "print(planets[-1])\n",
    "print(planets[-2])"
   ]
  },
  {
   "cell_type": "markdown",
   "metadata": {},
   "source": [
    "## indices"
   ]
  },
  {
   "cell_type": "code",
   "execution_count": 8,
   "metadata": {},
   "outputs": [
    {
     "name": "stdout",
     "output_type": "stream",
     "text": [
      "Marte es el planeta numero: 4\n"
     ]
    }
   ],
   "source": [
    "mars_index = planets.index('marte')\n",
    "# se le aumenta uno al indice por que las listas son de indices con base 0\n",
    "print('Marte es el planeta numero: ' + str(mars_index + 1))"
   ]
  },
  {
   "cell_type": "markdown",
   "metadata": {},
   "source": [
    "## numeros en listas"
   ]
  },
  {
   "cell_type": "code",
   "execution_count": 10,
   "metadata": {},
   "outputs": [
    {
     "name": "stdout",
     "output_type": "stream",
     "text": [
      "En la tierra, un autobus doble pesa:  12650  kgs.\n",
      "En mercurio, un autobus doble pesa:  4781.7  kgs.\n",
      "minima gravedad:  0.378\n",
      "maxima gravedad:  2.36\n"
     ]
    }
   ],
   "source": [
    "gravity_on_planets = [0.378, 0.907, 1, 0.379, 2.36, 0.916, 0.889, 1.12]\n",
    "bus_weight = 12650 # peso en kg en la tierra\n",
    "\n",
    "print('En la tierra, un autobus doble pesa: ', bus_weight, ' kgs.')\n",
    "print('En mercurio, un autobus doble pesa: ', (bus_weight * gravity_on_planets[0]), ' kgs.')\n",
    "print('minima gravedad: ', min(gravity_on_planets))\n",
    "print('maxima gravedad: ', max(gravity_on_planets))\n"
   ]
  },
  {
   "cell_type": "code",
   "execution_count": 11,
   "metadata": {},
   "outputs": [
    {
     "name": "stdout",
     "output_type": "stream",
     "text": [
      "El peso mas ligero de un autobus doble en el sistema solar es:  4781.7  kgs.\n",
      "El peso mas grande de un autobus doble en el sistema solar es:  29854.0  kgs.\n"
     ]
    }
   ],
   "source": [
    "print('El peso mas ligero de un autobus doble en el sistema solar es: ', (bus_weight * min(gravity_on_planets)), ' kgs.')\n",
    "print('El peso mas grande de un autobus doble en el sistema solar es: ', (bus_weight * max(gravity_on_planets)), ' kgs.')"
   ]
  },
  {
   "cell_type": "markdown",
   "metadata": {},
   "source": [
    "### Slicing"
   ]
  },
  {
   "cell_type": "code",
   "execution_count": 13,
   "metadata": {},
   "outputs": [
    {
     "name": "stdout",
     "output_type": "stream",
     "text": [
      "['Mercurio', 'Venus']\n",
      "['Marte', 'Jupiter', 'Saturno', 'Urano', 'Neptuno']\n"
     ]
    }
   ],
   "source": [
    "planets = ['Mercurio', 'Venus', 'Tierra', 'Marte', 'Jupiter', 'Saturno', 'Urano', 'Neptuno']\n",
    "planetas_antes_tierra = planets[0:2]\n",
    "print(planetas_antes_tierra)\n",
    "# si no se coloca un limite superior al slice, se asume que este sera el maximo o tope de la lista\n",
    "planetas_despues_tierra = planets[3:]\n",
    "print(planetas_despues_tierra)"
   ]
  },
  {
   "cell_type": "markdown",
   "metadata": {},
   "source": [
    "### Unir listas"
   ]
  },
  {
   "cell_type": "code",
   "execution_count": 17,
   "metadata": {},
   "outputs": [
    {
     "name": "stdout",
     "output_type": "stream",
     "text": [
      "['Metis', 'Adrastea', 'Amaltea', 'Teba']\n",
      "['Io', 'Europa', 'Ganimedes', 'Calisto']\n",
      "Las lunas mas conocidas de saturno son:  ['Metis', 'Adrastea', 'Amaltea', 'Teba', 'Io', 'Europa', 'Ganimedes', 'Calisto']\n",
      "['Adrastea', 'Amaltea', 'Calisto', 'Europa', 'Ganimedes', 'Io', 'Metis', 'Teba']\n",
      "**************************\n",
      "['Teba', 'Metis', 'Io', 'Ganimedes', 'Europa', 'Calisto', 'Amaltea', 'Adrastea']\n"
     ]
    }
   ],
   "source": [
    "# se unenn dos listas con el operador +\n",
    "grupo_amaltea = ['Metis', 'Adrastea', 'Amaltea', 'Teba']\n",
    "grupo_galileo = ['Io', 'Europa', 'Ganimedes', 'Calisto']\n",
    "print(grupo_amaltea)\n",
    "print(grupo_galileo)\n",
    "lunas_conocidas = grupo_amaltea + grupo_galileo\n",
    "print('Las lunas mas conocidas de saturno son: ', lunas_conocidas)\n",
    "lunas_conocidas.sort()\n",
    "print(lunas_conocidas)\n",
    "print('**************************')\n",
    "\n",
    "lunas_conocidas.sort(reverse=True)\n",
    "print(lunas_conocidas)"
   ]
  }
 ],
 "metadata": {
  "interpreter": {
   "hash": "916dbcbb3f70747c44a77c7bcd40155683ae19c65e1c03b4aa3499c5328201f1"
  },
  "kernelspec": {
   "display_name": "Python 3.9.2 64-bit",
   "language": "python",
   "name": "python3"
  },
  "language_info": {
   "codemirror_mode": {
    "name": "ipython",
    "version": 3
   },
   "file_extension": ".py",
   "mimetype": "text/x-python",
   "name": "python",
   "nbconvert_exporter": "python",
   "pygments_lexer": "ipython3",
   "version": "3.9.2"
  },
  "orig_nbformat": 4
 },
 "nbformat": 4,
 "nbformat_minor": 2
}
